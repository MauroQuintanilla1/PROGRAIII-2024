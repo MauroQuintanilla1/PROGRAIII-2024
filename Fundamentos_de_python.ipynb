{
  "nbformat": 4,
  "nbformat_minor": 0,
  "metadata": {
    "colab": {
      "provenance": [],
      "authorship_tag": "ABX9TyP21X+gLNv4lESgphIcAmNg",
      "include_colab_link": true
    },
    "kernelspec": {
      "name": "python3",
      "display_name": "Python 3"
    },
    "language_info": {
      "name": "python"
    }
  },
  "cells": [
    {
      "cell_type": "markdown",
      "metadata": {
        "id": "view-in-github",
        "colab_type": "text"
      },
      "source": [
        "<a href=\"https://colab.research.google.com/github/MauroQuintanilla1/PROGRAIII-2024/blob/main/Fundamentos_de_python.ipynb\" target=\"_parent\"><img src=\"https://colab.research.google.com/assets/colab-badge.svg\" alt=\"Open In Colab\"/></a>"
      ]
    },
    {
      "cell_type": "code",
      "execution_count": 4,
      "metadata": {
        "colab": {
          "base_uri": "https://localhost:8080/"
        },
        "id": "5k0MV6gZ4g6Z",
        "outputId": "c40bbc26-ef43-411f-a22a-cba517afa98e"
      },
      "outputs": [
        {
          "output_type": "stream",
          "name": "stdout",
          "text": [
            "HOLA MUNDO\n",
            "Hola Mauro Quintanilla inicial M  \n"
          ]
        }
      ],
      "source": [
        "print(\"HOLA MUNDO\")\n",
        "Nombre= \"Mauro Quintanilla\"\n",
        "\n",
        "print (\"Hola\", Nombre,\"inicial\", Nombre[0],Nombre[5])"
      ]
    },
    {
      "cell_type": "markdown",
      "source": [
        "EJERCICIO, CREAR UN PROGRAMA EN PHYTON QUE SUME DOS NUMEROS"
      ],
      "metadata": {
        "id": "G11m775t9tbe"
      }
    },
    {
      "cell_type": "code",
      "source": [
        "num1 = 5\n",
        "num2 = 9.5\n",
        "resp = num1 + num2\n",
        "print (\"la suma es\", resp)"
      ],
      "metadata": {
        "colab": {
          "base_uri": "https://localhost:8080/"
        },
        "id": "_4_RnQ9d9rHi",
        "outputId": "1f6069fd-e043-4b17-cfc2-cd2c216d3ec2"
      },
      "execution_count": 7,
      "outputs": [
        {
          "output_type": "stream",
          "name": "stdout",
          "text": [
            "la suma es 14.5\n"
          ]
        }
      ]
    },
    {
      "cell_type": "markdown",
      "source": [
        "EJERCICIO, CREAR UN PROGRAMA DE PYTHON  QUE SUME DOS NUMEROS INTRODUCIDOS POR USUARIOS\n"
      ],
      "metadata": {
        "id": "G-nAzs50_Rzb"
      }
    },
    {
      "cell_type": "code",
      "source": [
        "# prompt: EJERCICIO, CREAR UN PROGRAMA DE PYTHON QUE SUME DOS NUMEROS INTRODUCIDOS POR USUARIOS\n",
        "\n",
        "num1 = float(input(\"Introduce el primer número: \"))\n",
        "num2 = float(input(\"Introduce el segundo número: \"))\n",
        "suma = num1 + num2\n",
        "print(\"La suma de\", num1, \"y\", num2, \"es igual a\", suma)\n"
      ],
      "metadata": {
        "colab": {
          "base_uri": "https://localhost:8080/"
        },
        "id": "XkW8PDIO_jjm",
        "outputId": "26f7830b-242f-47ac-d65e-e53ddbdcf8ef"
      },
      "execution_count": 8,
      "outputs": [
        {
          "output_type": "stream",
          "name": "stdout",
          "text": [
            "Introduce el primer número: 8\n",
            "Introduce el segundo número: 9\n",
            "La suma de 8.0 y 9.0 es igual a 17.0\n"
          ]
        }
      ]
    },
    {
      "cell_type": "code",
      "source": [
        "#tipo de datos\n",
        "num1 = 5\n",
        "num2 = 5.9\n",
        "nombre = \"Mauro Quintanilla\"\n",
        "print(nombre[0:4], nombre [:4],nombre [-5], nombre [5:len(nombre)])\n",
        "\n",
        "estado = True\n",
        "print(type(nombre), type(num1), type(num2), type (estado) )\n"
      ],
      "metadata": {
        "colab": {
          "base_uri": "https://localhost:8080/"
        },
        "id": "CNOd_eZVCILD",
        "outputId": "3ba976f7-5758-4542-ae29-b215bfed3b5d"
      },
      "execution_count": 15,
      "outputs": [
        {
          "output_type": "stream",
          "name": "stdout",
          "text": [
            "Maur Maur n  Quintanilla\n",
            "<class 'str'> <class 'int'> <class 'float'> <class 'bool'>\n"
          ]
        }
      ]
    },
    {
      "cell_type": "markdown",
      "source": [
        "EJERCIO CREE UN PROGRAMA EN PYTHON QUE LEA UN NUMERO Y DETERMINE SI ES PAR O IMPAR"
      ],
      "metadata": {
        "id": "Ptbnio-LE7iQ"
      }
    },
    {
      "cell_type": "code",
      "source": [
        "# prompt: EJERCIO CREE UN PROGRAMA EN PYTHON QUE LEA UN NUMERO Y DETERMINE SI ES PAR O IMPAR\n",
        "\n",
        "numero = int(input(\"Introduce un número: \"))\n",
        "if numero % 2 == 0:\n",
        "  print(numero, \"es un número par.\")\n",
        "else:\n",
        "  print(numero, \"es un número impar.\")\n"
      ],
      "metadata": {
        "colab": {
          "base_uri": "https://localhost:8080/"
        },
        "id": "d6f34bIfD7s1",
        "outputId": "d30a5242-ca93-41a4-94db-35b931970947"
      },
      "execution_count": 16,
      "outputs": [
        {
          "output_type": "stream",
          "name": "stdout",
          "text": [
            "Introduce un número: 7\n",
            "7 es un número impar.\n"
          ]
        }
      ]
    }
  ]
}